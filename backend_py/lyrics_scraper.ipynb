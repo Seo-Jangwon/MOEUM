{
 "cells": [
  {
   "cell_type": "code",
   "execution_count": 58,
   "id": "ac03e69f-c2f2-4771-ad03-af59111505b9",
   "metadata": {},
   "outputs": [
    {
     "name": "stdout",
     "output_type": "stream",
     "text": [
      "3\n",
      "True\n"
     ]
    }
   ],
   "source": [
    "import os\n",
    "import torch\n",
    "os.environ[\"CUDA_DEVICE_ORDER\"] = \"PCI_BUS_ID\"\n",
    "os.environ[\"CUDA_VISIBLE_DEVICES\"] = \"3\"\n",
    "\n",
    "print(os.environ[\"CUDA_VISIBLE_DEVICES\"])\n",
    "print(torch.cuda.is_available())"
   ]
  },
  {
   "cell_type": "code",
   "execution_count": 59,
   "id": "f2de0036-a581-47a8-8ce0-c7b7d6b43dbc",
   "metadata": {},
   "outputs": [],
   "source": [
    "import requests\n",
    "\n",
    "url = \"https://api.genius.com/search?q=\"\n",
    "\n",
    "headers = dict()\n",
    "headers[\"Authorization\"] = \"Bearer GPObAJ6sPP1YTqY2TkAOVRL0RZ6Tc5jUCps7BN0MqgiwTQQt_7LHc8NDvaqTudR9\"\n",
    "\n",
    "keyword = \"All I Want For Christmas Is You\"\n",
    "\n",
    "r = requests.get(url + keyword, headers=headers).json()"
   ]
  },
  {
   "cell_type": "code",
   "execution_count": 60,
   "id": "c96812a2-7155-43c1-b907-f88849bfe018",
   "metadata": {},
   "outputs": [],
   "source": [
    "endpoint = r['response']['hits'][0]['result']['path']"
   ]
  },
  {
   "cell_type": "code",
   "execution_count": 61,
   "id": "c21828ce-65ca-424e-8080-2fb8c16ef8f3",
   "metadata": {},
   "outputs": [],
   "source": [
    "from bs4 import BeautifulSoup\n",
    "\n",
    "url = \"https://genius.com\" + endpoint\n",
    "r = requests.get(url)\n",
    "html = r.text\n",
    "\n",
    "soup = BeautifulSoup(html, 'html.parser')\n",
    "\n",
    "divs = soup.find_all('div', attrs={'data-lyrics-container': 'true'})\n",
    "texts = []\n",
    "\n",
    "for div in divs:\n",
    "    ds = div.get_text(separator=\"\\n\").split('\\n')\n",
    "\n",
    "    for d in ds:\n",
    "        texts.append(d)"
   ]
  },
  {
   "cell_type": "code",
   "execution_count": 62,
   "id": "c4e02cc0-bea6-4e30-bab3-65cb26bfcbb3",
   "metadata": {
    "scrolled": true
   },
   "outputs": [
    {
     "data": {
      "text/plain": [
       "['[Intro]',\n",
       " \"I don't want a lot for Christmas\",\n",
       " 'There is just one thing I need',\n",
       " \"I don't care about the presents\",\n",
       " 'Underneath the Christmas tree',\n",
       " 'I just want you for my own',\n",
       " 'More than you could ever know',\n",
       " 'Make my wish come true',\n",
       " 'All I want for Christmas is you, yeah',\n",
       " '[Verse 1]',\n",
       " \"I don't want a lot for Christmas\",\n",
       " 'There is just one thing I need (And I)',\n",
       " \"Don't care about the presents\",\n",
       " 'Underneath the Christmas tree',\n",
       " \"I don't need to hang my stocking\",\n",
       " 'There upon the fireplace (Ah)',\n",
       " \"Santa Claus won't make me happy\",\n",
       " 'With a toy on Christmas Day',\n",
       " '[Chorus]',\n",
       " 'I just want you for my own (Ooh)',\n",
       " 'More than you could ever know (Ooh)',\n",
       " 'Make my wish come true',\n",
       " 'All I want for Christmas is you',\n",
       " 'You, baby',\n",
       " '[Verse 2]',\n",
       " \"Oh, I won't ask for much this Christmas\",\n",
       " \"I won't even wish for snow (And I)\",\n",
       " \"I'm just gonna keep on waiting\",\n",
       " 'Underneath the mistletoe',\n",
       " \"I won't make a list and send it\",\n",
       " 'To the North Pole for Saint Nick (Ah)',\n",
       " \"I won't even stay awake to\",\n",
       " 'Hear those magic reindeer click',\n",
       " '[Chorus]',\n",
       " \"'Cause I just want you here tonight (Ooh)\",\n",
       " 'Holding on to me so tight (Ooh)',\n",
       " 'What more can I do?',\n",
       " 'Oh baby, all I want for Christmas is you',\n",
       " 'You, baby',\n",
       " '[Bridge]',\n",
       " 'Oh, all the lights are shining',\n",
       " 'So brightly everywhere (So brightly, baby)',\n",
       " \"And the sound of children's\",\n",
       " 'Laughter fills the air (Oh, oh yeah)',\n",
       " 'And everyone is singing (Oh yeah)',\n",
       " 'I hear those sleigh bells ringing (Oh)',\n",
       " \"Santa, won't you bring me the one I really need? (Yeah, oh, oh)\",\n",
       " \"Won't you please bring my baby to me?\",\n",
       " '[Verse 3]',\n",
       " \"Oh, I don't want a lot for Christmas\",\n",
       " \"This is all I'm asking for (Ah)\",\n",
       " 'I just wanna see my baby',\n",
       " 'Standing right outside my door',\n",
       " '[Chorus]',\n",
       " 'Oh, I just want you for my own (Ooh)',\n",
       " 'More than you could ever know (Ooh)',\n",
       " 'Make my wish come true',\n",
       " 'Oh baby, all I want for Christmas is you',\n",
       " '[Outro]',\n",
       " 'You, baby',\n",
       " 'All I want for Christmas is you, baby (You)',\n",
       " 'All I want for Christmas is you, baby (Ah, oh, ah, oh)',\n",
       " 'All I want for Christmas is you, baby (You)',\n",
       " 'All I want for Christmas is you, baby (All I really want, baby, ooh)',\n",
       " 'All I want for Christmas is you, baby (All I want, all I really want is you)']"
      ]
     },
     "execution_count": 62,
     "metadata": {},
     "output_type": "execute_result"
    }
   ],
   "source": [
    "texts"
   ]
  },
  {
   "cell_type": "code",
   "execution_count": 65,
   "id": "d638ff78-a616-4284-86c3-a3932ce021c3",
   "metadata": {},
   "outputs": [],
   "source": [
    "lyrics = []\n",
    "lyric = \"\"\n",
    "\n",
    "for text in texts:\n",
    "    if text[0] == '[' and text[-1] == ']':\n",
    "        if lyric != \"\":\n",
    "            lyrics.append(lyric.strip())\n",
    "        \n",
    "        lyric = \"\"\n",
    "    else:\n",
    "        lyric += text + '\\n'"
   ]
  },
  {
   "cell_type": "code",
   "execution_count": 66,
   "id": "d9ca118e-c439-4b5b-a88e-5312dc2cd80f",
   "metadata": {},
   "outputs": [
    {
     "data": {
      "text/plain": [
       "[\"I don't want a lot for Christmas\\nThere is just one thing I need\\nI don't care about the presents\\nUnderneath the Christmas tree\\nI just want you for my own\\nMore than you could ever know\\nMake my wish come true\\nAll I want for Christmas is you, yeah\",\n",
       " \"I don't want a lot for Christmas\\nThere is just one thing I need (And I)\\nDon't care about the presents\\nUnderneath the Christmas tree\\nI don't need to hang my stocking\\nThere upon the fireplace (Ah)\\nSanta Claus won't make me happy\\nWith a toy on Christmas Day\",\n",
       " 'I just want you for my own (Ooh)\\nMore than you could ever know (Ooh)\\nMake my wish come true\\nAll I want for Christmas is you\\nYou, baby',\n",
       " \"Oh, I won't ask for much this Christmas\\nI won't even wish for snow (And I)\\nI'm just gonna keep on waiting\\nUnderneath the mistletoe\\nI won't make a list and send it\\nTo the North Pole for Saint Nick (Ah)\\nI won't even stay awake to\\nHear those magic reindeer click\",\n",
       " \"'Cause I just want you here tonight (Ooh)\\nHolding on to me so tight (Ooh)\\nWhat more can I do?\\nOh baby, all I want for Christmas is you\\nYou, baby\",\n",
       " \"Oh, all the lights are shining\\nSo brightly everywhere (So brightly, baby)\\nAnd the sound of children's\\nLaughter fills the air (Oh, oh yeah)\\nAnd everyone is singing (Oh yeah)\\nI hear those sleigh bells ringing (Oh)\\nSanta, won't you bring me the one I really need? (Yeah, oh, oh)\\nWon't you please bring my baby to me?\",\n",
       " \"Oh, I don't want a lot for Christmas\\nThis is all I'm asking for (Ah)\\nI just wanna see my baby\\nStanding right outside my door\",\n",
       " 'Oh, I just want you for my own (Ooh)\\nMore than you could ever know (Ooh)\\nMake my wish come true\\nOh baby, all I want for Christmas is you']"
      ]
     },
     "execution_count": 66,
     "metadata": {},
     "output_type": "execute_result"
    }
   ],
   "source": [
    "lyrics"
   ]
  },
  {
   "cell_type": "code",
   "execution_count": 67,
   "id": "c7c81e79-6bb8-4945-ab8c-2cdf3148b681",
   "metadata": {},
   "outputs": [],
   "source": [
    "f = open('./lyrics.txt', 'w')\n",
    "\n",
    "for lyric in lyrics:\n",
    "    f.write(\"★\")\n",
    "    f.write(lyric)\n",
    "\n",
    "f.close()"
   ]
  },
  {
   "cell_type": "code",
   "execution_count": null,
   "id": "79fb092a-6f91-4edb-a591-8bf897e740ee",
   "metadata": {},
   "outputs": [],
   "source": []
  }
 ],
 "metadata": {
  "kernelspec": {
   "display_name": "conda(python3.10)",
   "language": "python",
   "name": "python310"
  },
  "language_info": {
   "codemirror_mode": {
    "name": "ipython",
    "version": 3
   },
   "file_extension": ".py",
   "mimetype": "text/x-python",
   "name": "python",
   "nbconvert_exporter": "python",
   "pygments_lexer": "ipython3",
   "version": "3.10.15"
  }
 },
 "nbformat": 4,
 "nbformat_minor": 5
}
